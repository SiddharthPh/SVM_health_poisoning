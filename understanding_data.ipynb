{
 "cells": [
  {
   "cell_type": "markdown",
   "metadata": {
    "id": "x4s4gu7H8zE7"
   },
   "source": [
    "# Understanding MNIST data using CDataloader from secml"
   ]
  },
  {
   "cell_type": "code",
   "execution_count": null,
   "metadata": {
    "id": "M2WytD3h9IDn"
   },
   "outputs": [],
   "source": [
    "# using CDataloader to use the dataset:\n",
    "# For more details follow this site : https://secml.readthedocs.io/en/stable/secml.data.loader.html#module-secml.data.loader.c_dataloader_mnist\n",
    "import secml\n",
    "from secml.data.loader import CDataLoaderMNIST"
   ]
  },
  {
   "cell_type": "markdown",
   "metadata": {
    "id": "AwbOZ1Ma9pz6"
   },
   "source": [
    "### MNIST dataset consist of training set: 60,000 samples, test set: 10,000 samples \n",
    "### The images are 28X28 black nad white handwritten digits from 0-9."
   ]
  },
  {
   "cell_type": "code",
   "execution_count": null,
   "metadata": {
    "colab": {
     "base_uri": "https://localhost:8080/"
    },
    "id": "CHBJB8RB9iMM",
    "outputId": "a0a25002-da28-4633-ffee-c70779608ff6"
   },
   "outputs": [
    {
     "name": "stdout",
     "output_type": "stream",
     "text": [
      "Downloading from `https://gitlab.com/api/v4/projects/secml%2Fsecml-zoo/repository/files/datasets%2FMNIST%2Ftrain-images-idx3-ubyte.gz/raw?ref=master` (9912422 bytes)\n",
      "\n",
      "File stored in `/root/secml-data/datasets/mnist/train-images-idx3-ubyte.gz`\n",
      "Downloading from `https://gitlab.com/api/v4/projects/secml%2Fsecml-zoo/repository/files/datasets%2FMNIST%2Ftrain-labels-idx1-ubyte.gz/raw?ref=master` (28881 bytes)\n",
      "\n",
      "File stored in `/root/secml-data/datasets/mnist/train-labels-idx1-ubyte.gz`\n",
      "Downloading from `https://gitlab.com/api/v4/projects/secml%2Fsecml-zoo/repository/files/datasets%2FMNIST%2Ft10k-images-idx3-ubyte.gz/raw?ref=master` (1648877 bytes)\n",
      "\n",
      "File stored in `/root/secml-data/datasets/mnist/t10k-images-idx3-ubyte.gz`\n",
      "Downloading from `https://gitlab.com/api/v4/projects/secml%2Fsecml-zoo/repository/files/datasets%2FMNIST%2Ft10k-labels-idx1-ubyte.gz/raw?ref=master` (4542 bytes)\n",
      "\n",
      "File stored in `/root/secml-data/datasets/mnist/t10k-labels-idx1-ubyte.gz`\n"
     ]
    },
    {
     "data": {
      "text/plain": [
       "CDataLoaderMNIST{'train_data_path': '/root/secml-data/datasets/mnist/train-images-idx3-ubyte', 'train_labels_path': '/root/secml-data/datasets/mnist/train-labels-idx1-ubyte', 'test_data_path': '/root/secml-data/datasets/mnist/t10k-images-idx3-ubyte', 'test_labels_path': '/root/secml-data/datasets/mnist/t10k-labels-idx1-ubyte'}"
      ]
     },
     "execution_count": 4,
     "metadata": {},
     "output_type": "execute_result"
    }
   ],
   "source": [
    "loader= CDataLoaderMNIST()\n",
    "# We are using this loader because we can get required digits from the dataset(can be seen in next cell, we only use digits 0,4)\n",
    "loader"
   ]
  },
  {
   "cell_type": "code",
   "execution_count": null,
   "metadata": {
    "id": "AuBDvcMF-nbE"
   },
   "outputs": [],
   "source": [
    "num_training = 600  # Number of training set samples\n",
    "num_validation = 200  # Number of validation set samples\n",
    "num_testing = 200  # Number of testing set samples\n",
    "\n",
    "digits_classifying=(0,4) # As we are only considerate about misclassifying 4 as 0."
   ]
  },
  {
   "cell_type": "code",
   "execution_count": null,
   "metadata": {
    "id": "vkCrIGrJBFJT"
   },
   "outputs": [],
   "source": [
    "# We are loading training and validation together because loader takes only two attributes (training, testing).\n",
    "training_validation=loader.load('training', digits=digits_classifying, num_samples=num_training + num_validation) \n",
    "# We will split the training_validation into training and validation\n",
    "training_dataset = training_validation[:num_training, :]\n",
    "validation_dataset = training_validation[num_training:, :]\n",
    "# Testing dataset\n",
    "testing_dataset=loader.load('testing',digits=digits_classifying, num_samples=num_testing)"
   ]
  },
  {
   "cell_type": "code",
   "execution_count": null,
   "metadata": {
    "colab": {
     "base_uri": "https://localhost:8080/"
    },
    "id": "RHHk5QepUzsS",
    "outputId": "f64f55f7-2ee6-4d74-e8ab-ef53b3c1f252"
   },
   "outputs": [
    {
     "data": {
      "text/plain": [
       "CDataset{'X': CArray(600, 784)(dense: [[0. 0. 0. ... 0. 0. 0.] [0. 0. 0. ... 0. 0. 0.] [0. 0. 0. ... 0. 0. 0.] ... [0. 0. 0. ... 0. 0. 0.] [0. 0. 0. ... 0. 0. 0.] [0. 0. 0. ... 0. 0. 0.]]), 'Y': CArray(600,)(dense: [0 1 1 ... 1 0 1]), 'header': CDatasetHeader{'num_samples': None, 'img_w': 28, 'img_h': 28, 'y_original': (0, 4)}}"
      ]
     },
     "execution_count": 10,
     "metadata": {},
     "output_type": "execute_result"
    }
   ],
   "source": [
    "training_dataset\n",
    "# As the images are of size 28X28, if we flatten it into 1D array, we get an array of dimension 784, as we have 600 samples\n",
    "# the dimension becomes (600,784)"
   ]
  },
  {
   "attachments": {},
   "cell_type": "markdown",
   "metadata": {
    "id": "jrk5ElU6PYwM"
   },
   "source": [
    "### Normalise the data between [0,1]\n",
    "#### Normalisation helps in maintaining consistency in data. \n",
    "#### We are dividing each data by 255 because RGB ranges from [0,255], so dividing them with 255 will set these values between [0,1]"
   ]
  },
  {
   "cell_type": "code",
   "execution_count": null,
   "metadata": {
    "id": "fq-Ybwy_Q8R7"
   },
   "outputs": [],
   "source": [
    "training_dataset.X /= 255\n",
    "validation_dataset.X /= 255\n",
    "testing_dataset.X /= 255"
   ]
  }
 ],
 "metadata": {
  "colab": {
   "provenance": []
  },
  "kernelspec": {
   "display_name": "Python 3 (ipykernel)",
   "language": "python",
   "name": "python3"
  },
  "language_info": {
   "codemirror_mode": {
    "name": "ipython",
    "version": 3
   },
   "file_extension": ".py",
   "mimetype": "text/x-python",
   "name": "python",
   "nbconvert_exporter": "python",
   "pygments_lexer": "ipython3",
   "version": "3.9.13"
  }
 },
 "nbformat": 4,
 "nbformat_minor": 1
}
