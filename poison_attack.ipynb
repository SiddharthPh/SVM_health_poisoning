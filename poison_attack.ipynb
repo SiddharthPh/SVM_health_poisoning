{
 "cells": [
  {
   "cell_type": "markdown",
   "id": "1dcd4591",
   "metadata": {},
   "source": [
    "## Poisoning attack with MNIST dataset\n",
    "\n",
    "For poisoning attacks the parameters are much simpler. We set the the bounds \n",
    " of the attack space and the number of adversarial points to generate, \n",
    " 50 in this example. Lastly, we chose the  parameters for this \n",
    " specific optimization problem.\n",
    "\n",
    "*Read more about the attack in this paper: https://arxiv.org/pdf/1206.6389.pdf.*\n",
    " "
   ]
  },
  {
   "cell_type": "code",
   "execution_count": 1,
   "id": "3d49c3f4",
   "metadata": {},
   "outputs": [
    {
     "name": "stdout",
     "output_type": "stream",
     "text": [
      "Accuracy on testing dataset: 99.00%\n"
     ]
    }
   ],
   "source": [
    "from svm_model import *"
   ]
  },
  {
   "cell_type": "code",
   "execution_count": 9,
   "id": "998071fd",
   "metadata": {},
   "outputs": [],
   "source": [
    "from secml.figure import CFigure\n",
    "# Only required for visualization in notebooks\n",
    "%matplotlib inline\n",
    "\n",
    "# Let's define a convenience function to easily plot the MNIST dataset\n",
    "def show_digits(samples, preds, labels, digs, n_display=8):\n",
    "    samples = samples.atleast_2d()\n",
    "    n_display = min(n_display, samples.shape[0])\n",
    "    fig = CFigure(width=n_display*2, height=3)\n",
    "    for idx in range(n_display):\n",
    "        fig.subplot(2, n_display, idx+1)\n",
    "        fig.sp.xticks([])\n",
    "        fig.sp.yticks([])\n",
    "        fig.sp.imshow(samples[idx, :].reshape((28, 28)), cmap='gray')\n",
    "        fig.sp.title(\"{} ({})\".format(digs[labels[idx].item()], digs[preds[idx].item()]),\n",
    "                     color=(\"green\" if labels[idx].item()==preds[idx].item() else \"red\"))\n",
    "    fig.show()\n"
   ]
  },
  {
   "cell_type": "code",
   "execution_count": 11,
   "id": "1e5b0b55",
   "metadata": {},
   "outputs": [
    {
     "name": "stdout",
     "output_type": "stream",
     "text": [
      "Attack started...\n",
      "Attack complete!\n",
      "Original accuracy on test set: 99.00%\n",
      "Accuracy after attack on test set: 93.00%\n"
     ]
    },
    {
     "data": {
      "image/png": "[encoded data removed]",
      "text/plain": [
       "<Figure size 1600x300 with 8 Axes>"
      ]
     },
     "metadata": {},
     "output_type": "display_data"
    }
   ],
   "source": [
    "lb, ub = 0., 1.  # Bounds of the attack space. Can be set to `None` for unbounded\n",
    "n_poisoning_points = 15  # Number of poisoning points to generate\n",
    "random_state=999\n",
    "# Should be chosen depending on the optimization problem\n",
    "solver_params = {\n",
    "    'eta': 0.25,\n",
    "    'eta_min': 2.0,\n",
    "    'eta_max': None,\n",
    "    'max_iter': 100,\n",
    "    'eps': 1e-6\n",
    "}\n",
    "\n",
    "from secml.adv.attacks import CAttackPoisoningSVM\n",
    "pois_attack = CAttackPoisoningSVM(classifier=model,\n",
    "                                  training_data=training_dataset,\n",
    "                                  val=validation_dataset,\n",
    "                                  lb=lb, ub=ub,\n",
    "                                  solver_params=solver_params,\n",
    "                                  random_seed=random_state)\n",
    "pois_attack.n_points = n_poisoning_points  # Number of points\n",
    "\n",
    "# Run the poisoning attack\n",
    "print(\"Attack started...\")\n",
    "pois_y_pred, _, pois_points_ds, _ = pois_attack.run(testing_dataset.X, testing_dataset.Y)\n",
    "print(\"Attack complete!\")\n",
    "\n",
    "# Evaluate the accuracy of the original classifier\n",
    "acc = metric.performance_score(y_true=testing_dataset.Y, y_pred=model.predict(testing_dataset.X))\n",
    "# Evaluate the accuracy after the poisoning attack\n",
    "pois_acc = metric.performance_score(y_true=testing_dataset.Y, y_pred=pois_y_pred)\n",
    "\n",
    "print(\"Original accuracy on test set: {:.2%}\".format(acc))\n",
    "print(\"Accuracy after attack on test set: {:.2%}\".format(pois_acc))\n",
    "\n",
    "# Training of the poisoned classifier for visualization purposes\n",
    "pois_clf = model.deepcopy()\n",
    "pois_tr = training_dataset.append(pois_points_ds)  # Join the training set with the poisoning points\n",
    "pois_clf.fit(pois_tr.X, pois_tr.Y)\n",
    "\n",
    "show_digits(pois_points_ds.X, pois_clf.predict(pois_points_ds.X), \n",
    "            pois_points_ds.Y, digits_classifying)"
   ]
  },
  {
   "cell_type": "markdown",
   "id": "91299dd6",
   "metadata": {},
   "source": [
    "#### We can see that the classifier trained on the MNIST dataset has been successfully poisoned. To increase the attack power, more poisoning points can be crafted, at the expense of a much slower optimization process."
   ]
  },
  {
   "cell_type": "markdown",
   "id": "a3a68112",
   "metadata": {},
   "source": [
    "#### In poisoning attacks, our model will generate adversarial examples i.e create fake data that represents 4 as 0 and 0 as 4. These poisonous data points once appended to the training set, the ML model will even train on poisonous data thereby predicting wrong values."
   ]
  },
  {
   "cell_type": "markdown",
   "id": "7f2c2582",
   "metadata": {},
   "source": [
    "In the above case 0 was predicted as 0, but its true label is 4(as it is a poisonous point)"
   ]
  },
  {
   "cell_type": "code",
   "execution_count": null,
   "id": "0412e360",
   "metadata": {},
   "outputs": [],
   "source": []
  }
 ],
 "metadata": {
  "kernelspec": {
   "display_name": "Python 3 (ipykernel)",
   "language": "python",
   "name": "python3"
  },
  "language_info": {
   "codemirror_mode": {
    "name": "ipython",
    "version": 3
   },
   "file_extension": ".py",
   "mimetype": "text/x-python",
   "name": "python",
   "nbconvert_exporter": "python",
   "pygments_lexer": "ipython3",
   "version": "3.9.13"
  }
 },
 "nbformat": 4,
 "nbformat_minor": 5
}
